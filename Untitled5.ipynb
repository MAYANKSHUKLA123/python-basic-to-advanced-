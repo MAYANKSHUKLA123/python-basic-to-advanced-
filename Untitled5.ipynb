{
 "cells": [
  {
   "cell_type": "markdown",
   "metadata": {},
   "source": [
    "Types of error:\n",
    "    1. Compile time error  // ;,\"\"...\n",
    "    2. run time error     // unknown error in program 1/0\n",
    "    "
   ]
  },
  {
   "cell_type": "code",
   "execution_count": 1,
   "metadata": {},
   "outputs": [
    {
     "name": "stdout",
     "output_type": "stream",
     "text": [
      "Writing demo.txt\n"
     ]
    }
   ],
   "source": [
    "%%writefile demo.txt\n",
    "This is my demo file"
   ]
  },
  {
   "cell_type": "code",
   "execution_count": 6,
   "metadata": {},
   "outputs": [
    {
     "name": "stdout",
     "output_type": "stream",
     "text": [
      "Stop me from executing\n"
     ]
    }
   ],
   "source": [
    "try:\n",
    "    f=open(\"demo.txt\",'w')\n",
    "    f.write(\"7\")\n",
    "except:\n",
    "    print(\"Cannot write file\")\n",
    "finally:\n",
    "    print(\"Stop me from executing\")"
   ]
  },
  {
   "cell_type": "code",
   "execution_count": null,
   "metadata": {},
   "outputs": [],
   "source": [
    "\n",
    "\n"
   ]
  }
 ],
 "metadata": {
  "kernelspec": {
   "display_name": "Python 3",
   "language": "python",
   "name": "python3"
  },
  "language_info": {
   "codemirror_mode": {
    "name": "ipython",
    "version": 3
   },
   "file_extension": ".py",
   "mimetype": "text/x-python",
   "name": "python",
   "nbconvert_exporter": "python",
   "pygments_lexer": "ipython3",
   "version": "3.7.3"
  }
 },
 "nbformat": 4,
 "nbformat_minor": 2
}
